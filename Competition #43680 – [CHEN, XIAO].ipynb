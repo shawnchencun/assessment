{
 "cells": [
  {
   "cell_type": "markdown",
   "id": "f53c084a",
   "metadata": {},
   "source": [
    "# Assessment"
   ]
  },
  {
   "cell_type": "markdown",
   "id": "533ac822",
   "metadata": {},
   "source": [
    "### Install API packages"
   ]
  },
  {
   "cell_type": "code",
   "execution_count": 38,
   "id": "33b553e8",
   "metadata": {},
   "outputs": [
    {
     "name": "stdout",
     "output_type": "stream",
     "text": [
      "Requirement already satisfied: sodapy in /opt/homebrew/Caskroom/miniconda/base/lib/python3.12/site-packages (2.2.0)\n",
      "Requirement already satisfied: requests>=2.28.1 in /opt/homebrew/Caskroom/miniconda/base/lib/python3.12/site-packages (from sodapy) (2.32.3)\n",
      "Requirement already satisfied: charset-normalizer<4,>=2 in /opt/homebrew/Caskroom/miniconda/base/lib/python3.12/site-packages (from requests>=2.28.1->sodapy) (3.3.2)\n",
      "Requirement already satisfied: idna<4,>=2.5 in /opt/homebrew/Caskroom/miniconda/base/lib/python3.12/site-packages (from requests>=2.28.1->sodapy) (3.7)\n",
      "Requirement already satisfied: urllib3<3,>=1.21.1 in /opt/homebrew/Caskroom/miniconda/base/lib/python3.12/site-packages (from requests>=2.28.1->sodapy) (2.2.3)\n",
      "Requirement already satisfied: certifi>=2017.4.17 in /opt/homebrew/Caskroom/miniconda/base/lib/python3.12/site-packages (from requests>=2.28.1->sodapy) (2025.4.26)\n",
      "Note: you may need to restart the kernel to use updated packages.\n"
     ]
    }
   ],
   "source": [
    "%pip install sodapy"
   ]
  },
  {
   "cell_type": "markdown",
   "id": "1f20f72c",
   "metadata": {},
   "source": [
    "### Import libraries"
   ]
  },
  {
   "cell_type": "code",
   "execution_count": 39,
   "id": "2659fff8",
   "metadata": {},
   "outputs": [],
   "source": [
    "import pandas as pd\n",
    "import matplotlib.pyplot as plt\n",
    "import requests\n",
    "from sodapy import Socrata\n",
    "import seaborn as sns\n",
    "import warnings\n",
    "import geopandas as gpd\n",
    "from shapely.geometry import Point\n",
    "warnings.filterwarnings('ignore')"
   ]
  },
  {
   "cell_type": "markdown",
   "id": "182adfa0",
   "metadata": {},
   "source": [
    "### Set up APIs"
   ]
  },
  {
   "cell_type": "code",
   "execution_count": null,
   "id": "88814f5c",
   "metadata": {},
   "outputs": [
    {
     "name": "stderr",
     "output_type": "stream",
     "text": [
      "WARNING:root:Requests made without an app_token will be subject to strict throttling limits.\n"
     ]
    }
   ],
   "source": [
    "URL_INSPECTIONS = 'https://data.lacity.org/resource/9w5z-rg2h.json'\n",
    "\n",
    "\n",
    "client = Socrata(\"data.lacity.org\", None)\n"
   ]
  },
  {
   "cell_type": "markdown",
   "id": "c683bb00",
   "metadata": {},
   "source": [
    "### Source data from remote"
   ]
  },
  {
   "cell_type": "code",
   "execution_count": 41,
   "id": "18f8702b",
   "metadata": {},
   "outputs": [],
   "source": [
    "raw_data = client.get(\"9w5z-rg2h\")\n",
    "raw_data_df = pd.DataFrame.from_records(raw_data)"
   ]
  },
  {
   "cell_type": "markdown",
   "id": "76ad9c07",
   "metadata": {},
   "source": [
    "### Exploratory data analysis"
   ]
  },
  {
   "cell_type": "code",
   "execution_count": 42,
   "id": "cfc81821",
   "metadata": {},
   "outputs": [
    {
     "data": {
      "text/html": [
       "<div>\n",
       "<style scoped>\n",
       "    .dataframe tbody tr th:only-of-type {\n",
       "        vertical-align: middle;\n",
       "    }\n",
       "\n",
       "    .dataframe tbody tr th {\n",
       "        vertical-align: top;\n",
       "    }\n",
       "\n",
       "    .dataframe thead th {\n",
       "        text-align: right;\n",
       "    }\n",
       "</style>\n",
       "<table border=\"1\" class=\"dataframe\">\n",
       "  <thead>\n",
       "    <tr style=\"text-align: right;\">\n",
       "      <th></th>\n",
       "      <th>address</th>\n",
       "      <th>permit</th>\n",
       "      <th>permit_status</th>\n",
       "      <th>inspection_date</th>\n",
       "      <th>inspection</th>\n",
       "      <th>inspection_result</th>\n",
       "      <th>lat_lon</th>\n",
       "      <th>:@computed_region_qz3q_ghft</th>\n",
       "      <th>:@computed_region_kqwf_mjcx</th>\n",
       "      <th>:@computed_region_k96s_3jcv</th>\n",
       "      <th>:@computed_region_tatf_ua23</th>\n",
       "      <th>:@computed_region_ur2y_g4cx</th>\n",
       "      <th>:@computed_region_2dna_qi2s</th>\n",
       "    </tr>\n",
       "  </thead>\n",
       "  <tbody>\n",
       "    <tr>\n",
       "      <th>0</th>\n",
       "      <td>10000 W SANTA MONICA BLVD</td>\n",
       "      <td>14044 10000 02293</td>\n",
       "      <td>Issued</td>\n",
       "      <td>2016-07-20T00:00:00.000</td>\n",
       "      <td>Rough-Ventilation</td>\n",
       "      <td>Partial Approval</td>\n",
       "      <td>{'latitude': '34.06364', 'longitude': '-118.41...</td>\n",
       "      <td>24032</td>\n",
       "      <td>6</td>\n",
       "      <td>870</td>\n",
       "      <td>739</td>\n",
       "      <td>9</td>\n",
       "      <td>75</td>\n",
       "    </tr>\n",
       "    <tr>\n",
       "      <th>1</th>\n",
       "      <td>1000 S SANTA FE AVE</td>\n",
       "      <td>15016 10000 18196</td>\n",
       "      <td>Permit Finaled</td>\n",
       "      <td>2016-07-22T00:00:00.000</td>\n",
       "      <td>Smoke Detectors</td>\n",
       "      <td>Insp Cancelled</td>\n",
       "      <td>{'latitude': '34.03143', 'longitude': '-118.22...</td>\n",
       "      <td>23082</td>\n",
       "      <td>9</td>\n",
       "      <td>533</td>\n",
       "      <td>1287</td>\n",
       "      <td>NaN</td>\n",
       "      <td>76</td>\n",
       "    </tr>\n",
       "    <tr>\n",
       "      <th>2</th>\n",
       "      <td>3680 N BUENA PARK DR</td>\n",
       "      <td>15014 10000 04931</td>\n",
       "      <td>Issued</td>\n",
       "      <td>2016-07-18T00:00:00.000</td>\n",
       "      <td>Insulation</td>\n",
       "      <td>Approved</td>\n",
       "      <td>{'latitude': '34.13745', 'longitude': '-118.38...</td>\n",
       "      <td>8492</td>\n",
       "      <td>5</td>\n",
       "      <td>351</td>\n",
       "      <td>1353</td>\n",
       "      <td>NaN</td>\n",
       "      <td>84</td>\n",
       "    </tr>\n",
       "    <tr>\n",
       "      <th>3</th>\n",
       "      <td>1001 N LINDENWOOD LANE</td>\n",
       "      <td>16042 90000 14712</td>\n",
       "      <td>Permit Finaled</td>\n",
       "      <td>2016-07-20T00:00:00.000</td>\n",
       "      <td>Final</td>\n",
       "      <td>Permit Finaled</td>\n",
       "      <td>{'latitude': '34.07732', 'longitude': '-118.48...</td>\n",
       "      <td>23680</td>\n",
       "      <td>10</td>\n",
       "      <td>830</td>\n",
       "      <td>780</td>\n",
       "      <td>NaN</td>\n",
       "      <td>NaN</td>\n",
       "    </tr>\n",
       "    <tr>\n",
       "      <th>4</th>\n",
       "      <td>2836 S ANCHOR AVE</td>\n",
       "      <td>15016 20001 17211</td>\n",
       "      <td>CofO Issued</td>\n",
       "      <td>2016-07-18T00:00:00.000</td>\n",
       "      <td>Inspection</td>\n",
       "      <td>Permit Finaled</td>\n",
       "      <td>{'latitude': '34.03878', 'longitude': '-118.39...</td>\n",
       "      <td>24029</td>\n",
       "      <td>6</td>\n",
       "      <td>872</td>\n",
       "      <td>1100</td>\n",
       "      <td>9</td>\n",
       "      <td>95</td>\n",
       "    </tr>\n",
       "  </tbody>\n",
       "</table>\n",
       "</div>"
      ],
      "text/plain": [
       "                     address             permit   permit_status  \\\n",
       "0  10000 W SANTA MONICA BLVD  14044 10000 02293          Issued   \n",
       "1        1000 S SANTA FE AVE  15016 10000 18196  Permit Finaled   \n",
       "2       3680 N BUENA PARK DR  15014 10000 04931          Issued   \n",
       "3     1001 N LINDENWOOD LANE  16042 90000 14712  Permit Finaled   \n",
       "4          2836 S ANCHOR AVE  15016 20001 17211     CofO Issued   \n",
       "\n",
       "           inspection_date         inspection inspection_result  \\\n",
       "0  2016-07-20T00:00:00.000  Rough-Ventilation  Partial Approval   \n",
       "1  2016-07-22T00:00:00.000    Smoke Detectors    Insp Cancelled   \n",
       "2  2016-07-18T00:00:00.000         Insulation          Approved   \n",
       "3  2016-07-20T00:00:00.000              Final    Permit Finaled   \n",
       "4  2016-07-18T00:00:00.000         Inspection    Permit Finaled   \n",
       "\n",
       "                                             lat_lon  \\\n",
       "0  {'latitude': '34.06364', 'longitude': '-118.41...   \n",
       "1  {'latitude': '34.03143', 'longitude': '-118.22...   \n",
       "2  {'latitude': '34.13745', 'longitude': '-118.38...   \n",
       "3  {'latitude': '34.07732', 'longitude': '-118.48...   \n",
       "4  {'latitude': '34.03878', 'longitude': '-118.39...   \n",
       "\n",
       "  :@computed_region_qz3q_ghft :@computed_region_kqwf_mjcx  \\\n",
       "0                       24032                           6   \n",
       "1                       23082                           9   \n",
       "2                        8492                           5   \n",
       "3                       23680                          10   \n",
       "4                       24029                           6   \n",
       "\n",
       "  :@computed_region_k96s_3jcv :@computed_region_tatf_ua23  \\\n",
       "0                         870                         739   \n",
       "1                         533                        1287   \n",
       "2                         351                        1353   \n",
       "3                         830                         780   \n",
       "4                         872                        1100   \n",
       "\n",
       "  :@computed_region_ur2y_g4cx :@computed_region_2dna_qi2s  \n",
       "0                           9                          75  \n",
       "1                         NaN                          76  \n",
       "2                         NaN                          84  \n",
       "3                         NaN                         NaN  \n",
       "4                           9                          95  "
      ]
     },
     "execution_count": 42,
     "metadata": {},
     "output_type": "execute_result"
    }
   ],
   "source": [
    "raw_data_df.head()"
   ]
  },
  {
   "cell_type": "markdown",
   "id": "cb06d954",
   "metadata": {},
   "source": [
    "#### Drop unused columns"
   ]
  },
  {
   "cell_type": "code",
   "execution_count": 43,
   "id": "5f431021",
   "metadata": {},
   "outputs": [],
   "source": [
    "columns_to_keep = [\n",
    "    'address',\n",
    "    'permit',\n",
    "    'permit_status',\n",
    "    'inspection_date',\n",
    "    'inspection',\n",
    "    'inspection_result',\n",
    "    'lat_lon'\n",
    "]"
   ]
  },
  {
   "cell_type": "code",
   "execution_count": 44,
   "id": "db90d430",
   "metadata": {},
   "outputs": [],
   "source": [
    "trimmed_df = raw_data_df[columns_to_keep].copy()"
   ]
  },
  {
   "cell_type": "code",
   "execution_count": 45,
   "id": "dc1ecb18",
   "metadata": {},
   "outputs": [
    {
     "data": {
      "text/html": [
       "<div>\n",
       "<style scoped>\n",
       "    .dataframe tbody tr th:only-of-type {\n",
       "        vertical-align: middle;\n",
       "    }\n",
       "\n",
       "    .dataframe tbody tr th {\n",
       "        vertical-align: top;\n",
       "    }\n",
       "\n",
       "    .dataframe thead th {\n",
       "        text-align: right;\n",
       "    }\n",
       "</style>\n",
       "<table border=\"1\" class=\"dataframe\">\n",
       "  <thead>\n",
       "    <tr style=\"text-align: right;\">\n",
       "      <th></th>\n",
       "      <th>address</th>\n",
       "      <th>permit</th>\n",
       "      <th>permit_status</th>\n",
       "      <th>inspection_date</th>\n",
       "      <th>inspection</th>\n",
       "      <th>inspection_result</th>\n",
       "      <th>lat_lon</th>\n",
       "    </tr>\n",
       "  </thead>\n",
       "  <tbody>\n",
       "    <tr>\n",
       "      <th>0</th>\n",
       "      <td>10000 W SANTA MONICA BLVD</td>\n",
       "      <td>14044 10000 02293</td>\n",
       "      <td>Issued</td>\n",
       "      <td>2016-07-20T00:00:00.000</td>\n",
       "      <td>Rough-Ventilation</td>\n",
       "      <td>Partial Approval</td>\n",
       "      <td>{'latitude': '34.06364', 'longitude': '-118.41...</td>\n",
       "    </tr>\n",
       "    <tr>\n",
       "      <th>1</th>\n",
       "      <td>1000 S SANTA FE AVE</td>\n",
       "      <td>15016 10000 18196</td>\n",
       "      <td>Permit Finaled</td>\n",
       "      <td>2016-07-22T00:00:00.000</td>\n",
       "      <td>Smoke Detectors</td>\n",
       "      <td>Insp Cancelled</td>\n",
       "      <td>{'latitude': '34.03143', 'longitude': '-118.22...</td>\n",
       "    </tr>\n",
       "    <tr>\n",
       "      <th>2</th>\n",
       "      <td>3680 N BUENA PARK DR</td>\n",
       "      <td>15014 10000 04931</td>\n",
       "      <td>Issued</td>\n",
       "      <td>2016-07-18T00:00:00.000</td>\n",
       "      <td>Insulation</td>\n",
       "      <td>Approved</td>\n",
       "      <td>{'latitude': '34.13745', 'longitude': '-118.38...</td>\n",
       "    </tr>\n",
       "    <tr>\n",
       "      <th>3</th>\n",
       "      <td>1001 N LINDENWOOD LANE</td>\n",
       "      <td>16042 90000 14712</td>\n",
       "      <td>Permit Finaled</td>\n",
       "      <td>2016-07-20T00:00:00.000</td>\n",
       "      <td>Final</td>\n",
       "      <td>Permit Finaled</td>\n",
       "      <td>{'latitude': '34.07732', 'longitude': '-118.48...</td>\n",
       "    </tr>\n",
       "    <tr>\n",
       "      <th>4</th>\n",
       "      <td>2836 S ANCHOR AVE</td>\n",
       "      <td>15016 20001 17211</td>\n",
       "      <td>CofO Issued</td>\n",
       "      <td>2016-07-18T00:00:00.000</td>\n",
       "      <td>Inspection</td>\n",
       "      <td>Permit Finaled</td>\n",
       "      <td>{'latitude': '34.03878', 'longitude': '-118.39...</td>\n",
       "    </tr>\n",
       "  </tbody>\n",
       "</table>\n",
       "</div>"
      ],
      "text/plain": [
       "                     address             permit   permit_status  \\\n",
       "0  10000 W SANTA MONICA BLVD  14044 10000 02293          Issued   \n",
       "1        1000 S SANTA FE AVE  15016 10000 18196  Permit Finaled   \n",
       "2       3680 N BUENA PARK DR  15014 10000 04931          Issued   \n",
       "3     1001 N LINDENWOOD LANE  16042 90000 14712  Permit Finaled   \n",
       "4          2836 S ANCHOR AVE  15016 20001 17211     CofO Issued   \n",
       "\n",
       "           inspection_date         inspection inspection_result  \\\n",
       "0  2016-07-20T00:00:00.000  Rough-Ventilation  Partial Approval   \n",
       "1  2016-07-22T00:00:00.000    Smoke Detectors    Insp Cancelled   \n",
       "2  2016-07-18T00:00:00.000         Insulation          Approved   \n",
       "3  2016-07-20T00:00:00.000              Final    Permit Finaled   \n",
       "4  2016-07-18T00:00:00.000         Inspection    Permit Finaled   \n",
       "\n",
       "                                             lat_lon  \n",
       "0  {'latitude': '34.06364', 'longitude': '-118.41...  \n",
       "1  {'latitude': '34.03143', 'longitude': '-118.22...  \n",
       "2  {'latitude': '34.13745', 'longitude': '-118.38...  \n",
       "3  {'latitude': '34.07732', 'longitude': '-118.48...  \n",
       "4  {'latitude': '34.03878', 'longitude': '-118.39...  "
      ]
     },
     "execution_count": 45,
     "metadata": {},
     "output_type": "execute_result"
    }
   ],
   "source": [
    "trimmed_df.head()"
   ]
  },
  {
   "cell_type": "markdown",
   "id": "d35bdedc",
   "metadata": {},
   "source": [
    "#### Missing values"
   ]
  },
  {
   "cell_type": "code",
   "execution_count": 46,
   "id": "eb1e4464",
   "metadata": {},
   "outputs": [
    {
     "data": {
      "text/plain": [
       "address              0\n",
       "permit               0\n",
       "permit_status        0\n",
       "inspection_date      0\n",
       "inspection           0\n",
       "inspection_result    0\n",
       "lat_lon              0\n",
       "dtype: int64"
      ]
     },
     "execution_count": 46,
     "metadata": {},
     "output_type": "execute_result"
    }
   ],
   "source": [
    "trimmed_df.isnull().sum()"
   ]
  },
  {
   "cell_type": "markdown",
   "id": "af290346",
   "metadata": {},
   "source": [
    "#### Basic summary"
   ]
  },
  {
   "cell_type": "code",
   "execution_count": 47,
   "id": "34fd952d",
   "metadata": {},
   "outputs": [
    {
     "data": {
      "text/plain": [
       "(1000, 7)"
      ]
     },
     "execution_count": 47,
     "metadata": {},
     "output_type": "execute_result"
    }
   ],
   "source": [
    "trimmed_df.shape"
   ]
  },
  {
   "cell_type": "code",
   "execution_count": 48,
   "id": "59a8d6f9",
   "metadata": {},
   "outputs": [
    {
     "name": "stdout",
     "output_type": "stream",
     "text": [
      "<class 'pandas.core.frame.DataFrame'>\n",
      "RangeIndex: 1000 entries, 0 to 999\n",
      "Data columns (total 7 columns):\n",
      " #   Column             Non-Null Count  Dtype \n",
      "---  ------             --------------  ----- \n",
      " 0   address            1000 non-null   object\n",
      " 1   permit             1000 non-null   object\n",
      " 2   permit_status      1000 non-null   object\n",
      " 3   inspection_date    1000 non-null   object\n",
      " 4   inspection         1000 non-null   object\n",
      " 5   inspection_result  1000 non-null   object\n",
      " 6   lat_lon            1000 non-null   object\n",
      "dtypes: object(7)\n",
      "memory usage: 54.8+ KB\n"
     ]
    }
   ],
   "source": [
    "trimmed_df.info()"
   ]
  },
  {
   "cell_type": "markdown",
   "id": "c116093a",
   "metadata": {},
   "source": [
    "### "
   ]
  },
  {
   "cell_type": "markdown",
   "id": "61ef1a87",
   "metadata": {},
   "source": [
    "#### Convert data type"
   ]
  },
  {
   "cell_type": "code",
   "execution_count": 49,
   "id": "878476ca",
   "metadata": {},
   "outputs": [],
   "source": [
    "trimmed_df['inspection_date'] = pd.to_datetime(trimmed_df['inspection_date'])"
   ]
  },
  {
   "cell_type": "markdown",
   "id": "1544a754",
   "metadata": {},
   "source": [
    "## Question 1"
   ]
  },
  {
   "cell_type": "code",
   "execution_count": 50,
   "id": "f69aaac6",
   "metadata": {},
   "outputs": [
    {
     "name": "stdout",
     "output_type": "stream",
     "text": [
      "Table: Top 10 Most Common Inspection Types\n",
      "                  Inspection Type  Count  Percentage\n",
      "0                           Final    241        24.1\n",
      "1                           Rough    103        10.3\n",
      "2                      Inspection     55         5.5\n",
      "3                 Smoke Detectors     31         3.1\n",
      "4         Footing/Foundation/Slab     28         2.8\n",
      "5     SGSOV-Seismic Gas S/O Valve     24         2.4\n",
      "6                 Drywall Nailing     23         2.3\n",
      "7                  PLUMBING-Rough     22         2.2\n",
      "8           Service/Power Release     22         2.2\n",
      "9  Excavation/Setback/Form/Re-Bar     21         2.1\n"
     ]
    },
    {
     "data": {
      "image/png": "[encoded data removed]",
      "text/plain": [
       "<Figure size 1200x600 with 1 Axes>"
      ]
     },
     "metadata": {},
     "output_type": "display_data"
    }
   ],
   "source": [
    "# Count inspection types\n",
    "counts = trimmed_df['inspection'].value_counts().reset_index()\n",
    "counts.columns = ['Inspection Type', 'Count']\n",
    "\n",
    "# Add percentages\n",
    "counts['Percentage'] = (counts['Count'] / counts['Count'].sum() * 100).round(1)\n",
    "\n",
    "# Get top 10\n",
    "top10 = counts.head(10)\n",
    "\n",
    "# Print table\n",
    "print(\"Table: Top 10 Most Common Inspection Types\")\n",
    "print(top10)\n",
    "\n",
    "# Make bar chart\n",
    "plt.figure(figsize=(12, 6))\n",
    "plt.barh(top10['Inspection Type'], top10['Count'], color='green')\n",
    "\n",
    "# Add labels\n",
    "for i, count in enumerate(top10['Count']):\n",
    "    plt.text(count + 5, i, str(count))\n",
    "    plt.text(count/2, i, f\"{top10['Percentage'][i]}%\", color='white', fontweight='bold')\n",
    "\n",
    "plt.title('Top 10 Most Common Inspection Types')\n",
    "plt.xlabel('Number of Inspections')\n",
    "plt.tight_layout()\n",
    "\n",
    "plt.show()"
   ]
  },
  {
   "cell_type": "markdown",
   "id": "2174219d",
   "metadata": {},
   "source": [
    "#### Pattern Analysis:\n",
    "\n",
    "\n",
    "Most common inspection: 'Final' (24.1%). Top 3 types make up 39.900000000000006%.\n",
    "\n",
    "\n",
    "This result suggests that LA focuses mainly on Final, Rough, and other safety elements."
   ]
  },
  {
   "cell_type": "markdown",
   "id": "1520aee5",
   "metadata": {},
   "source": [
    "## Question 2"
   ]
  },
  {
   "cell_type": "code",
   "execution_count": 51,
   "id": "f7a1c462",
   "metadata": {},
   "outputs": [
    {
     "name": "stdout",
     "output_type": "stream",
     "text": [
      "Table: Inspections by Region\n",
      "      Region  Count  Percentage\n",
      "0  Southeast    315        31.5\n",
      "1  Northwest    315        31.5\n",
      "2  Southwest    185        18.5\n",
      "3  Northeast    185        18.5\n",
      "Region with most inspections: Southeast\n",
      "Region with fewest inspections: Northeast\n",
      "Number of inspections in Southeast: 315\n",
      "Number of inspections in Northeast: 185\n",
      "Percent difference: 70.3 %\n"
     ]
    },
    {
     "data": {
      "image/png": "[encoded data removed]",
      "text/plain": [
       "<Figure size 1000x600 with 1 Axes>"
      ]
     },
     "metadata": {},
     "output_type": "display_data"
    }
   ],
   "source": [
    "# Find median coordinates\n",
    "lat_med = trimmed_df['lat_lon'].apply(lambda x: float(x['latitude'])).median()\n",
    "lon_med = trimmed_df['lat_lon'].apply(lambda x: float(x['longitude'])).median()\n",
    "\n",
    "# Create regions\n",
    "trimmed_df['region'] = 'Unknown'\n",
    "for i, row in trimmed_df.iterrows():\n",
    "    lat = float(row['lat_lon']['latitude'])\n",
    "    lon = float(row['lat_lon']['longitude'])\n",
    "    \n",
    "    if lat >= lat_med and lon >= lon_med:\n",
    "        trimmed_df.at[i, 'region'] = 'Northeast'\n",
    "    elif lat >= lat_med and lon < lon_med:\n",
    "        trimmed_df.at[i, 'region'] = 'Northwest'\n",
    "    elif lat < lat_med and lon >= lon_med:\n",
    "        trimmed_df.at[i, 'region'] = 'Southeast'\n",
    "    else:\n",
    "        trimmed_df.at[i, 'region'] = 'Southwest'\n",
    "\n",
    "# Count by region\n",
    "regions = trimmed_df['region'].value_counts().reset_index()\n",
    "regions.columns = ['Region', 'Count']\n",
    "\n",
    "# Add percentages\n",
    "total = regions['Count'].sum()\n",
    "regions['Percentage'] = (regions['Count'] / total * 100).round(1)\n",
    "\n",
    "# Sort highest first\n",
    "regions = regions.sort_values('Count', ascending=False)\n",
    "\n",
    "# Show table\n",
    "print(\"Table: Inspections by Region\")\n",
    "print(regions)\n",
    "\n",
    "# Make chart\n",
    "plt.figure(figsize=(10, 6))\n",
    "plt.bar(regions['Region'], regions['Count'], color='blue')\n",
    "\n",
    "# Add labels\n",
    "for i, count in enumerate(regions['Count']):\n",
    "    plt.text(i, count + 5, str(count), ha='center')\n",
    "    plt.text(i, count/2, f\"{regions['Percentage'][i]}%\", ha='center', color='white', fontweight='bold')\n",
    "\n",
    "plt.title('Inspections by Region')\n",
    "plt.xlabel('Region')\n",
    "plt.ylabel('Count')\n",
    "plt.tight_layout()\n",
    "\n",
    "\n",
    "high_region = regions.iloc[0]['Region']\n",
    "low_region = regions.iloc[-1]['Region']\n",
    "high_count = regions.iloc[0]['Count']\n",
    "low_count = regions.iloc[-1]['Count']\n",
    "diff_pct = ((high_count - low_count) / low_count * 100).round(1)\n",
    "\n",
    "print(\"Region with most inspections:\", high_region)\n",
    "print(\"Region with fewest inspections:\", low_region)\n",
    "print(\"Number of inspections in\", high_region + \":\", high_count)\n",
    "print(\"Number of inspections in\", low_region + \":\", low_count)\n",
    "print(\"Percent difference:\", diff_pct, \"%\")\n",
    "\n",
    "plt.show()"
   ]
  },
  {
   "cell_type": "markdown",
   "id": "bab3a00a",
   "metadata": {},
   "source": [
    "#### Pattern Analysis:\n",
    "Southeast has 70.3% more inspections than Northeast.\n",
    "\n",
    "\n",
    "This shows big differences in inspection activity across LA."
   ]
  },
  {
   "cell_type": "code",
   "execution_count": 52,
   "id": "3d5c4cc7",
   "metadata": {},
   "outputs": [
    {
     "name": "stdout",
     "output_type": "stream",
     "text": [
      "Table: Inspection Results by Region\n",
      "result_category  Fail  Other  Pass  Total\n",
      "region                                   \n",
      "Total             114    338   548   1000\n",
      "Northwest          43    107   165    315\n",
      "Southeast          32    112   171    315\n",
      "Northeast          22     57   106    185\n",
      "Southwest          17     62   106    185\n",
      "Best region: Northeast\n",
      "Worst region: Northwest\n",
      "Best region pass percentage: 57.3\n",
      "Worst region pass percentage: 52.4\n"
     ]
    },
    {
     "data": {
      "text/plain": [
       "<Figure size 1000x600 with 0 Axes>"
      ]
     },
     "metadata": {},
     "output_type": "display_data"
    },
    {
     "data": {
      "image/png": "[encoded data removed]",
      "text/plain": [
       "<Figure size 1000x600 with 1 Axes>"
      ]
     },
     "metadata": {},
     "output_type": "display_data"
    }
   ],
   "source": [
    "# Get median coordinates\n",
    "lat_med = trimmed_df['lat_lon'].apply(lambda x: float(x['latitude'])).median()\n",
    "lon_med = trimmed_df['lat_lon'].apply(lambda x: float(x['longitude'])).median()\n",
    "\n",
    "# Create regions\n",
    "trimmed_df['region'] = 'Unknown'\n",
    "for i, row in trimmed_df.iterrows():\n",
    "    lat = float(row['lat_lon']['latitude'])\n",
    "    lon = float(row['lat_lon']['longitude'])\n",
    "    \n",
    "    if lat >= lat_med and lon >= lon_med:\n",
    "        trimmed_df.at[i, 'region'] = 'Northeast'\n",
    "    elif lat >= lat_med and lon < lon_med:\n",
    "        trimmed_df.at[i, 'region'] = 'Northwest'\n",
    "    elif lat < lat_med and lon >= lon_med:\n",
    "        trimmed_df.at[i, 'region'] = 'Southeast'\n",
    "    else:\n",
    "        trimmed_df.at[i, 'region'] = 'Southwest'\n",
    "\n",
    "# Simplify results\n",
    "result_map = {}\n",
    "for result in trimmed_df['inspection_result'].unique():\n",
    "    if 'PASS' in result.upper() or 'APPROV' in result.upper() or 'FINAL' in result.upper():\n",
    "        result_map[result] = 'Pass'\n",
    "    elif 'FAIL' in result.upper() or 'REJECT' in result.upper() or 'NOT' in result.upper():\n",
    "        result_map[result] = 'Fail'\n",
    "    else:\n",
    "        result_map[result] = 'Other'\n",
    "\n",
    "# Apply mapping\n",
    "trimmed_df['result_category'] = trimmed_df['inspection_result'].map(result_map)\n",
    "\n",
    "# Make results table by region\n",
    "results = pd.crosstab(\n",
    "    trimmed_df['region'], \n",
    "    trimmed_df['result_category'],\n",
    "    margins=True, \n",
    "    margins_name='Total'\n",
    ")\n",
    "\n",
    "# Sort by total\n",
    "results = results.sort_values('Total', ascending=False)\n",
    "\n",
    "# Calculate percentages\n",
    "pct = pd.crosstab(\n",
    "    trimmed_df['region'], \n",
    "    trimmed_df['result_category'],\n",
    "    normalize='index'\n",
    ") * 100\n",
    "pct = pct.round(1)\n",
    "\n",
    "# Make chart\n",
    "plt.figure(figsize=(10, 6))\n",
    "results_viz = results.drop('Total')\n",
    "\n",
    "# Stacked bar chart\n",
    "results_viz.plot(\n",
    "    kind='bar', \n",
    "    stacked=True, \n",
    "    color=['green', 'red', 'gray'],\n",
    "    figsize=(10, 6)\n",
    ")\n",
    "\n",
    "plt.title('Inspection Results by Region')\n",
    "plt.xlabel('Region')\n",
    "plt.ylabel('Count')\n",
    "plt.xticks(rotation=45)\n",
    "plt.legend(title='Result')\n",
    "plt.tight_layout()\n",
    "\n",
    "# Find best/worst regions\n",
    "best = pct['Pass'].idxmax()\n",
    "worst = pct['Pass'].idxmin()\n",
    "best_pct = pct['Pass'].max()\n",
    "worst_pct = pct['Pass'].min()\n",
    "\n",
    "print(\"Table: Inspection Results by Region\")\n",
    "print(results)\n",
    "\n",
    "print(\"Best region:\", best)\n",
    "print(\"Worst region:\", worst)\n",
    "print(\"Best region pass percentage:\", best_pct)\n",
    "print(\"Worst region pass percentage:\", worst_pct)\n",
    "\n",
    "plt.show()"
   ]
  },
  {
   "cell_type": "markdown",
   "id": "bb234428",
   "metadata": {},
   "source": [
    "#### Pattern Analysis:\n",
    "Northeast has highest pass rate (57.3%) while Northwest has lowest (52.4%).\n",
    "This suggests differences in compliance or enforcement across regions."
   ]
  },
  {
   "cell_type": "markdown",
   "id": "f7ddd35f",
   "metadata": {},
   "source": [
    "## Question 3"
   ]
  },
  {
   "cell_type": "markdown",
   "id": "abbef6fb",
   "metadata": {},
   "source": [
    "### Flag the 'in town' feature with geopandas"
   ]
  },
  {
   "cell_type": "code",
   "execution_count": 53,
   "id": "089834c4",
   "metadata": {},
   "outputs": [],
   "source": [
    "# Convert string coordinates to actual values\n",
    "if isinstance(trimmed_df['lat_lon'][0], str):\n",
    "    trimmed_df['lat_lon'] = trimmed_df['lat_lon'].apply(eval)\n",
    "\n",
    "# Extract coordinates\n",
    "trimmed_df['latitude'] = trimmed_df['lat_lon'].apply(lambda x: float(x['latitude']))\n",
    "trimmed_df['longitude'] = trimmed_df['lat_lon'].apply(lambda x: float(x['longitude']))\n",
    "\n",
    "# Create geometric points\n",
    "points = [Point(row['longitude'], row['latitude']) for _, row in trimmed_df.iterrows()]\n",
    "\n",
    "# Make a geodataframe\n",
    "gdf = gpd.GeoDataFrame(trimmed_df, geometry=points, crs='EPSG:4326')\n",
    "\n",
    "# Load city boundary\n",
    "city = gpd.read_file('City_Boundaries_Lines.geojson')\n",
    "city = city.to_crs('EPSG:4326')\n",
    "\n",
    "# Combine all boundary parts\n",
    "city_shape = city.unary_union\n",
    "\n",
    "# Check which points are in the city\n",
    "gdf['in_town'] = gdf['geometry'].within(city_shape)\n",
    "\n",
    "# Add results back to original dataframe\n",
    "trimmed_df['in_town'] = gdf['in_town']"
   ]
  },
  {
   "cell_type": "code",
   "execution_count": 54,
   "id": "6b43d277",
   "metadata": {},
   "outputs": [
    {
     "data": {
      "text/html": [
       "<div>\n",
       "<style scoped>\n",
       "    .dataframe tbody tr th:only-of-type {\n",
       "        vertical-align: middle;\n",
       "    }\n",
       "\n",
       "    .dataframe tbody tr th {\n",
       "        vertical-align: top;\n",
       "    }\n",
       "\n",
       "    .dataframe thead th {\n",
       "        text-align: right;\n",
       "    }\n",
       "</style>\n",
       "<table border=\"1\" class=\"dataframe\">\n",
       "  <thead>\n",
       "    <tr style=\"text-align: right;\">\n",
       "      <th></th>\n",
       "      <th>address</th>\n",
       "      <th>permit</th>\n",
       "      <th>permit_status</th>\n",
       "      <th>inspection_date</th>\n",
       "      <th>inspection</th>\n",
       "      <th>inspection_result</th>\n",
       "      <th>lat_lon</th>\n",
       "      <th>region</th>\n",
       "      <th>result_category</th>\n",
       "      <th>latitude</th>\n",
       "      <th>longitude</th>\n",
       "      <th>in_town</th>\n",
       "    </tr>\n",
       "  </thead>\n",
       "  <tbody>\n",
       "    <tr>\n",
       "      <th>0</th>\n",
       "      <td>10000 W SANTA MONICA BLVD</td>\n",
       "      <td>14044 10000 02293</td>\n",
       "      <td>Issued</td>\n",
       "      <td>2016-07-20</td>\n",
       "      <td>Rough-Ventilation</td>\n",
       "      <td>Partial Approval</td>\n",
       "      <td>{'latitude': '34.06364', 'longitude': '-118.41...</td>\n",
       "      <td>Southwest</td>\n",
       "      <td>Pass</td>\n",
       "      <td>34.06364</td>\n",
       "      <td>-118.41437</td>\n",
       "      <td>True</td>\n",
       "    </tr>\n",
       "    <tr>\n",
       "      <th>1</th>\n",
       "      <td>1000 S SANTA FE AVE</td>\n",
       "      <td>15016 10000 18196</td>\n",
       "      <td>Permit Finaled</td>\n",
       "      <td>2016-07-22</td>\n",
       "      <td>Smoke Detectors</td>\n",
       "      <td>Insp Cancelled</td>\n",
       "      <td>{'latitude': '34.03143', 'longitude': '-118.22...</td>\n",
       "      <td>Southeast</td>\n",
       "      <td>Other</td>\n",
       "      <td>34.03143</td>\n",
       "      <td>-118.22981</td>\n",
       "      <td>True</td>\n",
       "    </tr>\n",
       "    <tr>\n",
       "      <th>2</th>\n",
       "      <td>3680 N BUENA PARK DR</td>\n",
       "      <td>15014 10000 04931</td>\n",
       "      <td>Issued</td>\n",
       "      <td>2016-07-18</td>\n",
       "      <td>Insulation</td>\n",
       "      <td>Approved</td>\n",
       "      <td>{'latitude': '34.13745', 'longitude': '-118.38...</td>\n",
       "      <td>Northeast</td>\n",
       "      <td>Pass</td>\n",
       "      <td>34.13745</td>\n",
       "      <td>-118.38853</td>\n",
       "      <td>True</td>\n",
       "    </tr>\n",
       "    <tr>\n",
       "      <th>3</th>\n",
       "      <td>1001 N LINDENWOOD LANE</td>\n",
       "      <td>16042 90000 14712</td>\n",
       "      <td>Permit Finaled</td>\n",
       "      <td>2016-07-20</td>\n",
       "      <td>Final</td>\n",
       "      <td>Permit Finaled</td>\n",
       "      <td>{'latitude': '34.07732', 'longitude': '-118.48...</td>\n",
       "      <td>Northwest</td>\n",
       "      <td>Pass</td>\n",
       "      <td>34.07732</td>\n",
       "      <td>-118.48578</td>\n",
       "      <td>True</td>\n",
       "    </tr>\n",
       "    <tr>\n",
       "      <th>4</th>\n",
       "      <td>2836 S ANCHOR AVE</td>\n",
       "      <td>15016 20001 17211</td>\n",
       "      <td>CofO Issued</td>\n",
       "      <td>2016-07-18</td>\n",
       "      <td>Inspection</td>\n",
       "      <td>Permit Finaled</td>\n",
       "      <td>{'latitude': '34.03878', 'longitude': '-118.39...</td>\n",
       "      <td>Southwest</td>\n",
       "      <td>Pass</td>\n",
       "      <td>34.03878</td>\n",
       "      <td>-118.39963</td>\n",
       "      <td>True</td>\n",
       "    </tr>\n",
       "  </tbody>\n",
       "</table>\n",
       "</div>"
      ],
      "text/plain": [
       "                     address             permit   permit_status  \\\n",
       "0  10000 W SANTA MONICA BLVD  14044 10000 02293          Issued   \n",
       "1        1000 S SANTA FE AVE  15016 10000 18196  Permit Finaled   \n",
       "2       3680 N BUENA PARK DR  15014 10000 04931          Issued   \n",
       "3     1001 N LINDENWOOD LANE  16042 90000 14712  Permit Finaled   \n",
       "4          2836 S ANCHOR AVE  15016 20001 17211     CofO Issued   \n",
       "\n",
       "  inspection_date         inspection inspection_result  \\\n",
       "0      2016-07-20  Rough-Ventilation  Partial Approval   \n",
       "1      2016-07-22    Smoke Detectors    Insp Cancelled   \n",
       "2      2016-07-18         Insulation          Approved   \n",
       "3      2016-07-20              Final    Permit Finaled   \n",
       "4      2016-07-18         Inspection    Permit Finaled   \n",
       "\n",
       "                                             lat_lon     region  \\\n",
       "0  {'latitude': '34.06364', 'longitude': '-118.41...  Southwest   \n",
       "1  {'latitude': '34.03143', 'longitude': '-118.22...  Southeast   \n",
       "2  {'latitude': '34.13745', 'longitude': '-118.38...  Northeast   \n",
       "3  {'latitude': '34.07732', 'longitude': '-118.48...  Northwest   \n",
       "4  {'latitude': '34.03878', 'longitude': '-118.39...  Southwest   \n",
       "\n",
       "  result_category  latitude  longitude  in_town  \n",
       "0            Pass  34.06364 -118.41437     True  \n",
       "1           Other  34.03143 -118.22981     True  \n",
       "2            Pass  34.13745 -118.38853     True  \n",
       "3            Pass  34.07732 -118.48578     True  \n",
       "4            Pass  34.03878 -118.39963     True  "
      ]
     },
     "execution_count": 54,
     "metadata": {},
     "output_type": "execute_result"
    }
   ],
   "source": [
    "trimmed_df.head()"
   ]
  },
  {
   "cell_type": "code",
   "execution_count": 55,
   "id": "043c0afa",
   "metadata": {},
   "outputs": [
    {
     "name": "stdout",
     "output_type": "stream",
     "text": [
      "                 Generalized Linear Model Regression Results                  \n",
      "==============================================================================\n",
      "Dep. Variable:              violation   No. Observations:                 1000\n",
      "Model:                            GLM   Df Residuals:                      898\n",
      "Model Family:                Binomial   Df Model:                          101\n",
      "Link Function:                  Logit   Scale:                          1.0000\n",
      "Method:                          IRLS   Log-Likelihood:                    nan\n",
      "Date:                Mon, 05 May 2025   Deviance:                       39328.\n",
      "Time:                        16:55:07   Pearson chi2:                 1.92e+18\n",
      "No. Iterations:                   100   Pseudo R-squ. (CS):                nan\n",
      "Covariance Type:            nonrobust                                         \n",
      "===================================================================================================================\n",
      "                                                      coef    std err          z      P>|z|      [0.025      0.975]\n",
      "-------------------------------------------------------------------------------------------------------------------\n",
      "Intercept                                       -7.357e+14   2.38e+07  -3.09e+07      0.000   -7.36e+14   -7.36e+14\n",
      "in_town[T.True]                                 -7.357e+14   2.38e+07  -3.09e+07      0.000   -7.36e+14   -7.36e+14\n",
      "C(region)[T.Northwest]                            3.61e+14   6.57e+06   5.49e+07      0.000    3.61e+14    3.61e+14\n",
      "C(region)[T.Southeast]                           4.953e+14    6.6e+06    7.5e+07      0.000    4.95e+14    4.95e+14\n",
      "C(region)[T.Southwest]                          -4.778e+13   7.35e+06   -6.5e+06      0.000   -4.78e+13   -4.78e+13\n",
      "C(inspection)[T.BUILDING-Rough-Frame]           -8.507e+14   4.99e+07   -1.7e+07      0.000   -8.51e+14   -8.51e+14\n",
      "C(inspection)[T.Bathtub Test]                    2.066e+15   6.72e+07   3.07e+07      0.000    2.07e+15    2.07e+15\n",
      "C(inspection)[T.Bottom/Toe]                      1.657e+15   5.39e+07   3.07e+07      0.000    1.66e+15    1.66e+15\n",
      "C(inspection)[T.CofO Issuance]                   1.071e+16   4.99e+07   2.15e+08      0.000    1.07e+16    1.07e+16\n",
      "C(inspection)[T.Construction Power(CTS)]         2.831e+15   6.72e+07   4.21e+07      0.000    2.83e+15    2.83e+15\n",
      "C(inspection)[T.Deck]                           -1.898e+15   8.24e+07   -2.3e+07      0.000    -1.9e+15    -1.9e+15\n",
      "C(inspection)[T.Deputy Drilled-In Anchors]      -1.014e+15   5.22e+07  -1.94e+07      0.000   -1.01e+15   -1.01e+15\n",
      "C(inspection)[T.Deputy Fireproofing]            -9.813e+14   5.33e+07  -1.84e+07      0.000   -9.81e+14   -9.81e+14\n",
      "C(inspection)[T.Deputy Grading]                  5.762e+14   5.22e+07    1.1e+07      0.000    5.76e+14    5.76e+14\n",
      "C(inspection)[T.Deputy Other (see comments)]    -2.584e+15   8.24e+07  -3.14e+07      0.000   -2.58e+15   -2.58e+15\n",
      "C(inspection)[T.Deputy Reinf. Concrete]          1.599e+15   5.07e+07   3.16e+07      0.000     1.6e+15     1.6e+15\n",
      "C(inspection)[T.Deputy Reinf. Masonry]          -1.193e+13   6.14e+07  -1.94e+05      0.000   -1.19e+13   -1.19e+13\n",
      "C(inspection)[T.Deputy Shotcrete]                3.238e+15   5.82e+07   5.56e+07      0.000    3.24e+15    3.24e+15\n",
      "C(inspection)[T.Deputy Steel/Welding]             1.66e+15   5.05e+07   3.29e+07      0.000    1.66e+15    1.66e+15\n",
      "C(inspection)[T.Deputy Wood Construction]        1.622e+15   5.62e+07   2.89e+07      0.000    1.62e+15    1.62e+15\n",
      "C(inspection)[T.Drainage Devices/Catch Basin]    1.093e+16   8.24e+07   1.33e+08      0.000    1.09e+16    1.09e+16\n",
      "C(inspection)[T.Drywall Nailing]                -1.163e+15   4.96e+07  -2.35e+07      0.000   -1.16e+15   -1.16e+15\n",
      "C(inspection)[T.ELECTRICAL-Final]                1.984e+15   5.82e+07   3.41e+07      0.000    1.98e+15    1.98e+15\n",
      "C(inspection)[T.ELECTRICAL-Rough]                8.869e+14   5.02e+07   1.77e+07      0.000    8.87e+14    8.87e+14\n",
      "C(inspection)[T.Electrical Verification]         1.411e+16   6.14e+07    2.3e+08      0.000    1.41e+16    1.41e+16\n",
      "C(inspection)[T.Elevator Verification]           1.233e+16   8.23e+07    1.5e+08      0.000    1.23e+16    1.23e+16\n",
      "C(inspection)[T.Enclosure/Fence]                 2.295e+15   5.62e+07   4.09e+07      0.000     2.3e+15     2.3e+15\n",
      "C(inspection)[T.Equipment Noise Level]           1.471e+16   6.72e+07   2.19e+08      0.000    1.47e+16    1.47e+16\n",
      "C(inspection)[T.Excavation]                      1.185e+16   8.23e+07   1.44e+08      0.000    1.19e+16    1.19e+16\n",
      "C(inspection)[T.Excavation/Setback/Form/Re-Bar] -7.288e+14   4.97e+07  -1.47e+07      0.000   -7.29e+14   -7.29e+14\n",
      "C(inspection)[T.Fill/Backfill]                   2.225e+15   6.72e+07   3.31e+07      0.000    2.23e+15    2.23e+15\n",
      "C(inspection)[T.Final]                           4.865e+14   4.77e+07   1.02e+07      0.000    4.86e+14    4.86e+14\n",
      "C(inspection)[T.Fire Damper Framing]             1.265e+16   6.72e+07   1.88e+08      0.000    1.26e+16    1.26e+16\n",
      "C(inspection)[T.Fire Sprinkler Verification]     1.104e+16   8.24e+07   1.34e+08      0.000     1.1e+16     1.1e+16\n",
      "C(inspection)[T.Floor/Roof Diaphrgm/Shear Wall]  9.122e+14   5.08e+07    1.8e+07      0.000    9.12e+14    9.12e+14\n",
      "C(inspection)[T.Footing/Foundation/Slab]         1.466e+15   4.92e+07   2.98e+07      0.000    1.47e+15    1.47e+15\n",
      "C(inspection)[T.Gas Piping]                      2.835e+15   6.72e+07   4.22e+07      0.000    2.84e+15    2.84e+15\n",
      "C(inspection)[T.Gas Piping or Gas Test]         -1.123e+15   8.23e+07  -1.37e+07      0.000   -1.12e+15   -1.12e+15\n",
      "C(inspection)[T.Gas Test]                        3.192e+15   5.62e+07   5.68e+07      0.000    3.19e+15    3.19e+15\n",
      "C(inspection)[T.Grading Verification]            1.157e+16    5.2e+07   2.23e+08      0.000    1.16e+16    1.16e+16\n",
      "C(inspection)[T.Green Building Final]           -3.142e+14   5.14e+07  -6.11e+06      0.000   -3.14e+14   -3.14e+14\n",
      "C(inspection)[T.Green Building Rough]             1.61e+15   5.02e+07    3.2e+07      0.000    1.61e+15    1.61e+15\n",
      "C(inspection)[T.Green Code Verification]         1.631e+16   8.23e+07   1.98e+08      0.000    1.63e+16    1.63e+16\n",
      "C(inspection)[T.Grounding or Bonding]            2.348e+15   6.72e+07    3.5e+07      0.000    2.35e+15    2.35e+15\n",
      "C(inspection)[T.HEATING-Final]                    1.67e+16   8.24e+07   2.03e+08      0.000    1.67e+16    1.67e+16\n",
      "C(inspection)[T.HVAC-Final]                     -9.257e+13   5.82e+07  -1.59e+06      0.000   -9.26e+13   -9.26e+13\n",
      "C(inspection)[T.HVAC-Rough]                     -8.434e+14   5.32e+07  -1.59e+07      0.000   -8.43e+14   -8.43e+14\n",
      "C(inspection)[T.Heat,Vent,A/C Verification]      1.155e+16   6.72e+07   1.72e+08      0.000    1.15e+16    1.15e+16\n",
      "C(inspection)[T.Initial Grading]                  8.18e+14   6.71e+07   1.22e+07      0.000    8.18e+14    8.18e+14\n",
      "C(inspection)[T.Inspection]                     -8.317e+14   4.84e+07  -1.72e+07      0.000   -8.32e+14   -8.32e+14\n",
      "C(inspection)[T.Insulation]                     -1.966e+13   5.26e+07  -3.74e+05      0.000   -1.97e+13   -1.97e+13\n",
      "C(inspection)[T.Interior/Exterior Lathing]       2.971e+15   5.09e+07   5.84e+07      0.000    2.97e+15    2.97e+15\n",
      "C(inspection)[T.Irrigation/Landscape]            1.229e+16   8.23e+07   1.49e+08      0.000    1.23e+16    1.23e+16\n",
      "C(inspection)[T.Life Safety]                    -9.962e+14   5.62e+07  -1.77e+07      0.000   -9.96e+14   -9.96e+14\n",
      "C(inspection)[T.Light Gage Steel Frame]          3.228e+14   5.48e+07   5.89e+06      0.000    3.23e+14    3.23e+14\n",
      "C(inspection)[T.METHANE-Barrier]                 2.894e+15   6.72e+07   4.31e+07      0.000    2.89e+15    2.89e+15\n",
      "C(inspection)[T.METHANE-Final]                   7.639e+14   6.72e+07   1.14e+07      0.000    7.64e+14    7.64e+14\n",
      "C(inspection)[T.METHANE-Rough]                   5.981e+14   6.13e+07   9.76e+06      0.000    5.98e+14    5.98e+14\n",
      "C(inspection)[T.METHANE-Subgrade]                8.884e+14   6.71e+07   1.32e+07      0.000    8.88e+14    8.88e+14\n",
      "C(inspection)[T.Masonry Wall/Backfill]           2.946e+14   5.82e+07   5.06e+06      0.000    2.95e+14    2.95e+14\n",
      "C(inspection)[T.Overhead Hydro]                 -2.173e+15   5.63e+07  -3.86e+07      0.000   -2.17e+15   -2.17e+15\n",
      "C(inspection)[T.PLUMBING-Final]                  4.078e+15   5.82e+07      7e+07      0.000    4.08e+15    4.08e+15\n",
      "C(inspection)[T.PLUMBING-Rough]                  2.004e+15   4.96e+07   4.04e+07      0.000       2e+15       2e+15\n",
      "C(inspection)[T.Partition/T-Bar Ceiling]        -1.091e+15   8.24e+07  -1.32e+07      0.000   -1.09e+15   -1.09e+15\n",
      "C(inspection)[T.Piling/Pier/Caisson]             1.255e+16   6.73e+07   1.86e+08      0.000    1.26e+16    1.26e+16\n",
      "C(inspection)[T.Plumbing Verification]           1.155e+16   5.62e+07   2.06e+08      0.000    1.16e+16    1.16e+16\n",
      "C(inspection)[T.Pool Equipment Noise Test]       1.684e+16   8.23e+07   2.05e+08      0.000    1.68e+16    1.68e+16\n",
      "C(inspection)[T.Posting Pre-Inspection]          1.167e+16   8.24e+07   1.42e+08      0.000    1.17e+16    1.17e+16\n",
      "C(inspection)[T.Pre-Gunite]                     -3.115e+14   6.14e+07  -5.07e+06      0.000   -3.11e+14   -3.11e+14\n",
      "C(inspection)[T.Pre-Inspection]                  1.805e+15   5.49e+07   3.28e+07      0.000     1.8e+15     1.8e+15\n",
      "C(inspection)[T.Pre-Wrap Duct Insp]              1.189e+16   8.23e+07   1.45e+08      0.000    1.19e+16    1.19e+16\n",
      "C(inspection)[T.Public Counter]                  1.069e+16   6.13e+07   1.74e+08      0.000    1.07e+16    1.07e+16\n",
      "C(inspection)[T.REFRIGERATION-Final]            -2.091e+15   8.24e+07  -2.54e+07      0.000   -2.09e+15   -2.09e+15\n",
      "C(inspection)[T.Reinforced Concrete Frame]       1.212e+15   5.82e+07   2.08e+07      0.000    1.21e+15    1.21e+15\n",
      "C(inspection)[T.Reinforced Masonry Frame]        5.833e+14   6.14e+07   9.51e+06      0.000    5.83e+14    5.83e+14\n",
      "C(inspection)[T.Rough]                           5.859e+13    4.8e+07   1.22e+06      0.000    5.86e+13    5.86e+13\n",
      "C(inspection)[T.Rough-A/C and Heating]          -9.921e+14   5.49e+07  -1.81e+07      0.000   -9.92e+14   -9.92e+14\n",
      "C(inspection)[T.Rough-Elec/Plmb/HVAC]            2.781e+15   5.62e+07   4.94e+07      0.000    2.78e+15    2.78e+15\n",
      "C(inspection)[T.Rough-Electrical]                1.127e+16   8.23e+07   1.37e+08      0.000    1.13e+16    1.13e+16\n",
      "C(inspection)[T.Rough-Grease Duct]              -1.431e+15   8.23e+07  -1.74e+07      0.000   -1.43e+15   -1.43e+15\n",
      "C(inspection)[T.Rough-Ventilation]                   4e+15   6.14e+07   6.52e+07      0.000       4e+15       4e+15\n",
      "C(inspection)[T.SGSOV-Seismic Gas S/O Valve]     5.096e+13   4.95e+07   1.03e+06      0.000     5.1e+13     5.1e+13\n",
      "C(inspection)[T.SUSMP-Std. Urban Storm Water]    1.117e+16   8.24e+07   1.36e+08      0.000    1.12e+16    1.12e+16\n",
      "C(inspection)[T.Service/Power Release]           1.447e+15   4.97e+07   2.92e+07      0.000    1.45e+15    1.45e+15\n",
      "C(inspection)[T.Sewer or Sewer Cap]              2.517e+15   6.73e+07   3.74e+07      0.000    2.52e+15    2.52e+15\n",
      "C(inspection)[T.Shower Pan]                      1.484e+15    5.2e+07   2.85e+07      0.000    1.48e+15    1.48e+15\n",
      "C(inspection)[T.Smoke Detectors]                 1.794e+15   4.91e+07   3.65e+07      0.000    1.79e+15    1.79e+15\n",
      "C(inspection)[T.Special/Order Compliance]        1.384e+14   5.39e+07   2.57e+06      0.000    1.38e+14    1.38e+14\n",
      "C(inspection)[T.Standpipe Hydro]                 1.616e+16   8.23e+07   1.96e+08      0.000    1.62e+16    1.62e+16\n",
      "C(inspection)[T.Structural Steel Frame]         -1.946e+15   6.72e+07   -2.9e+07      0.000   -1.95e+15   -1.95e+15\n",
      "C(inspection)[T.Sub-Drain]                       2.093e+15   6.72e+07   3.12e+07      0.000    2.09e+15    2.09e+15\n",
      "C(inspection)[T.T-Bar Ceiling]                   2.977e+13   5.62e+07   5.29e+05      0.000    2.98e+13    2.98e+13\n",
      "C(inspection)[T.TCO Plumbing Verification]       1.626e+16   8.24e+07   1.97e+08      0.000    1.63e+16    1.63e+16\n",
      "C(inspection)[T.TCO Sprinkler Verification]      1.177e+16   8.23e+07   1.43e+08      0.000    1.18e+16    1.18e+16\n",
      "C(inspection)[T.TSE Final]                      -1.874e+15   8.24e+07  -2.27e+07      0.000   -1.87e+15   -1.87e+15\n",
      "C(inspection)[T.Underground]                      1.45e+15   5.31e+07   2.73e+07      0.000    1.45e+15    1.45e+15\n",
      "C(inspection)[T.Underground Flush]              -1.751e+15   8.24e+07  -2.13e+07      0.000   -1.75e+15   -1.75e+15\n",
      "C(inspection)[T.Underground Mechanical]          9.348e+14   6.13e+07   1.52e+07      0.000    9.35e+14    9.35e+14\n",
      "C(inspection)[T.Verify Sprinkler Sign Off]      -5.735e+14   5.26e+07  -1.09e+07      0.000   -5.74e+14   -5.74e+14\n",
      "C(inspection)[T.Water Heater or Vent]            1.154e+16   8.24e+07    1.4e+08      0.000    1.15e+16    1.15e+16\n",
      "C(inspection)[T.Water Piping or Service]         2.818e+15   6.72e+07   4.19e+07      0.000    2.82e+15    2.82e+15\n",
      "C(inspection)[T.Weld]                            1.654e+16   8.24e+07   2.01e+08      0.000    1.65e+16    1.65e+16\n",
      "C(inspection)[T.Wood Frame]                      1.466e+14   4.97e+07   2.95e+06      0.000    1.47e+14    1.47e+14\n",
      "===================================================================================================================\n",
      "\n",
      "Odds ratios & p-values:\n",
      "                                              OR  p-value\n",
      "Intercept                                   0.0      0.0\n",
      "in_town[T.True]                             0.0      0.0\n",
      "C(region)[T.Northwest]                      inf      0.0\n",
      "C(region)[T.Southeast]                      inf      0.0\n",
      "C(region)[T.Southwest]                      0.0      0.0\n",
      "...                                         ...      ...\n",
      "C(inspection)[T.Verify Sprinkler Sign Off]  0.0      0.0\n",
      "C(inspection)[T.Water Heater or Vent]       inf      0.0\n",
      "C(inspection)[T.Water Piping or Service]    inf      0.0\n",
      "C(inspection)[T.Weld]                       inf      0.0\n",
      "C(inspection)[T.Wood Frame]                 inf      0.0\n",
      "\n",
      "[103 rows x 2 columns]\n",
      "\n",
      "Violation rate by in_town:\n",
      "in_town\n",
      "True    0.452\n",
      "Name: violation, dtype: float64\n"
     ]
    }
   ],
   "source": [
    "# Make a copy of the data\n",
    "df = trimmed_df.copy()\n",
    "\n",
    "# Mark violations as 1, passes as 0\n",
    "df['violation'] = 0\n",
    "df.loc[df['result_category'] != 'Pass', 'violation'] = 1\n",
    "\n",
    "# Build the model\n",
    "model = smf.glm('violation ~ in_town + C(region) + C(inspection)', data=df, family=sm.families.Binomial()).fit()\n",
    "\n",
    "print(model.summary())\n",
    "\n",
    "# Get odds ratios\n",
    "odds_ratios = np.exp(model.params)\n",
    "pvals = model.pvalues\n",
    "or_table = pd.DataFrame({'OR': odds_ratios, 'p-value': pvals})\n",
    "print(\"\\nOdds ratios & p-values:\\n\", or_table)\n",
    "\n",
    "# Check raw violation rates\n",
    "print(\"\\nViolation rate by in_town:\")\n",
    "print(df.groupby('in_town')['violation'].mean())"
   ]
  },
  {
   "cell_type": "markdown",
   "id": "1b328b4c",
   "metadata": {},
   "source": [
    "## Executive Summary\n",
    "\n",
    "\n",
    "This analysis investigated whether “out-of-town” contractors have higher rates of inspection violations compared to local contractors. We performed the analysis by applying a statistical model. The descriptive review on data revealed that in-town contractors have a significant violation rate of 45.2%, contradicting the initial hypothesis."
   ]
  }
 ],
 "metadata": {
  "kernelspec": {
   "display_name": "base",
   "language": "python",
   "name": "python3"
  },
  "language_info": {
   "codemirror_mode": {
    "name": "ipython",
    "version": 3
   },
   "file_extension": ".py",
   "mimetype": "text/x-python",
   "name": "python",
   "nbconvert_exporter": "python",
   "pygments_lexer": "ipython3",
   "version": "3.12.2"
  }
 },
 "nbformat": 4,
 "nbformat_minor": 5
}
